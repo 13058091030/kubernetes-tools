{
 "cells": [
  {
   "cell_type": "markdown",
   "metadata": {},
   "source": [
    "# Kubernetes Python API\n",
    "https://github.com/kubernetes-client/python\n"
   ]
  },
  {
   "cell_type": "markdown",
   "metadata": {},
   "source": [
    "### Install."
   ]
  },
  {
   "cell_type": "code",
   "execution_count": null,
   "metadata": {},
   "outputs": [],
   "source": [
    "!pip install git+https://github.com/kubernetes-client/python.git"
   ]
  },
  {
   "cell_type": "markdown",
   "metadata": {},
   "source": [
    "### Initialize."
   ]
  },
  {
   "cell_type": "code",
   "execution_count": 19,
   "metadata": {},
   "outputs": [],
   "source": [
    "from kubernetes import client, config\n",
    "config.kube_config.load_kube_config(config_file=\"kubeconfig.yaml\")"
   ]
  },
  {
   "cell_type": "code",
   "execution_count": 45,
   "metadata": {},
   "outputs": [],
   "source": [
    "v1 = client.CoreV1Api()"
   ]
  },
  {
   "cell_type": "markdown",
   "metadata": {},
   "source": [
    "### List namespaces."
   ]
  },
  {
   "cell_type": "code",
   "execution_count": 47,
   "metadata": {},
   "outputs": [
    {
     "name": "stdout",
     "output_type": "stream",
     "text": [
      "blockchain\n",
      "default\n",
      "ingress\n",
      "istio-system\n",
      "jupyter\n",
      "ks-dev\n",
      "kube-public\n",
      "kube-system\n",
      "kubeflow-dev\n",
      "kubeflow013\n",
      "monitor\n",
      "rook-ceph-system\n"
     ]
    }
   ],
   "source": [
    "for ns in v1.list_namespace().items:\n",
    "    print(ns.metadata.name)"
   ]
  },
  {
   "cell_type": "markdown",
   "metadata": {},
   "source": [
    "### List All services."
   ]
  },
  {
   "cell_type": "code",
   "execution_count": null,
   "metadata": {},
   "outputs": [],
   "source": [
    "print(\"Listing All services with their info:\\n\")\n",
    "ret = v1.list_service_for_all_namespaces(watch=False)\n",
    "for i in ret.items:\n",
    "    print(\"%s \\t%s \\t%s \\t%s \\t%s \\n\" % (i.kind, i.metadata.namespace, i.metadata.name, i.spec.cluster_ip, i.spec.ports ))"
   ]
  },
  {
   "cell_type": "markdown",
   "metadata": {},
   "source": [
    "### List all pods."
   ]
  },
  {
   "cell_type": "code",
   "execution_count": 48,
   "metadata": {},
   "outputs": [
    {
     "name": "stdout",
     "output_type": "stream",
     "text": [
      "Listing pods with their IPs:\n",
      "10.244.0.155\tdefault\tbusybox-577868d55b-47pkx\n",
      "10.244.0.164\tdefault\tbusybox-deployment-6c975f66c6-ndlt2\n",
      "10.244.0.154\tdefault\tnfs-server-nfs-server-provisioner-0\n",
      "10.244.0.117\tdefault\tnginx-65899c769f-tgthn\n",
      "10.244.0.145\tistio-system\tistio-citadel-7bdc7775c7-p4ww8\n",
      "10.244.0.125\tistio-system\tistio-cleanup-old-ca-dkvcx\n",
      "10.244.0.144\tistio-system\tistio-egressgateway-795fc9b47-plrjf\n",
      "10.244.0.148\tistio-system\tistio-ingress-84659cf44c-ztgl7\n",
      "10.244.0.143\tistio-system\tistio-ingressgateway-7d89dbf85f-mgm6h\n",
      "10.244.0.126\tistio-system\tistio-mixer-post-install-rfgrh\n",
      "10.244.0.137\tistio-system\tistio-pilot-66f4dd866c-qcntx\n",
      "10.244.0.146\tistio-system\tistio-policy-76c8896799-88t7b\n",
      "10.244.0.139\tistio-system\tistio-sidecar-injector-645c89bc64-d8mxc\n",
      "10.244.0.159\tistio-system\tistio-statsd-prom-bridge-949999c4c-rcpgt\n",
      "10.244.0.138\tistio-system\tistio-telemetry-6554768879-vqw86\n",
      "10.244.0.158\tistio-system\tprometheus-86cb6dd77c-dgp7c\n",
      "10.244.0.141\tjupyter\thook-image-puller-1530505782-9lp9b\n",
      "10.244.0.162\tjupyter\thub-7b46b56bb8-9l7qh\n",
      "10.244.0.167\tjupyter\tjupyter-supermap\n",
      "10.244.0.129\tjupyter\tproxy-757b9676bf-wngcd\n",
      "192.168.199.249\tkube-system\tetcd-supermap\n",
      "10.244.0.140\tkube-system\tflux-helm-operator-68f9f586f4-f8p2v\n",
      "192.168.199.249\tkube-system\tkube-apiserver-supermap\n",
      "192.168.199.249\tkube-system\tkube-controller-manager-supermap\n",
      "10.244.0.156\tkube-system\tkube-dns-58dd58c6c4-6hx59\n",
      "192.168.199.249\tkube-system\tkube-flannel-ds-sg9p6\n",
      "192.168.199.249\tkube-system\tkube-proxy-79l6g\n",
      "192.168.199.249\tkube-system\tkube-scheduler-supermap\n",
      "10.244.0.119\tkube-system\tkubernetes-dashboard-7d5dcdb6d9-xknlr\n",
      "10.244.0.136\tkube-system\tnginx-ingress-controller-67b9bf4c56-64lpc\n",
      "10.244.0.134\tkube-system\tnginx-ingress-default-backend-d676cbb5f-8q6t8\n",
      "10.244.0.147\tkube-system\tnvidia-device-plugin-daemonset-gzhvn\n",
      "10.244.0.128\tkube-system\ttiller-deploy-f44fbbb48-ff6qq\n",
      "10.244.0.127\tkubeflow-dev\tambassador-d74c99b6f-28xnf\n",
      "10.244.0.115\tkubeflow-dev\tambassador-d74c99b6f-92mkv\n",
      "10.244.0.132\tkubeflow-dev\tambassador-d74c99b6f-mvb79\n",
      "10.244.0.124\tkubeflow-dev\tspartakus-volunteer-7976c7dd5c-rdd6q\n",
      "10.244.0.130\tkubeflow-dev\ttf-hub-0\n",
      "10.244.0.135\tkubeflow-dev\ttf-job-dashboard-7b57c549c8-h2sv2\n",
      "10.244.0.122\tkubeflow-dev\ttf-job-operator-594d8c7ddd-b75jw\n",
      "10.244.0.116\tkubeflow013\tambassador-5bfc88cc87-4njpb\n",
      "10.244.0.123\tkubeflow013\tambassador-5bfc88cc87-4s7jf\n",
      "10.244.0.161\tkubeflow013\tambassador-5bfc88cc87-x7bvz\n",
      "10.244.0.118\tkubeflow013\tspartakus-volunteer-7976c7dd5c-btwtw\n",
      "10.244.0.126\tkubeflow013\ttf-hub-0\n",
      "10.244.0.121\tkubeflow013\ttf-job-dashboard-7b57c549c8-zwq92\n",
      "10.244.0.125\tkubeflow013\ttf-job-operator-594d8c7ddd-ddmqn\n",
      "10.244.0.120\tmonitor\tgrafana-8698b89767-hd7sv\n",
      "10.244.0.163\tmonitor\tprometheus-alertmanager-6df98765f4-gkhrh\n",
      "10.244.0.131\tmonitor\tprometheus-kube-state-metrics-6584885ccf-2tlh4\n",
      "192.168.199.249\tmonitor\tprometheus-node-exporter-tcqlx\n",
      "10.244.0.160\tmonitor\tprometheus-pushgateway-5495f55cdf-qbf4v\n",
      "10.244.0.165\tmonitor\tprometheus-server-5959898967-snztn\n",
      "192.168.199.249\trook-ceph-system\trook-ceph-agent-s5tjx\n",
      "10.244.0.142\trook-ceph-system\trook-ceph-mgr0-77d9fb65c-skljh\n",
      "10.244.0.151\trook-ceph-system\trook-ceph-mon3-sgqs8\n",
      "10.244.0.157\trook-ceph-system\trook-ceph-mon5-4rftd\n",
      "10.244.0.153\trook-ceph-system\trook-ceph-mon6-vx9ch\n",
      "10.244.0.149\trook-ceph-system\trook-ceph-operator-6c7687c646-l6r2r\n",
      "10.244.0.133\trook-ceph-system\trook-ceph-osd-frf6h\n",
      "10.244.0.152\trook-ceph-system\trook-discover-ptfwp\n"
     ]
    }
   ],
   "source": [
    "print(\"Listing pods with their IPs:\")\n",
    "ret = v1.list_pod_for_all_namespaces(watch=False)\n",
    "for i in ret.items:\n",
    "    print(\"%s\\t%s\\t%s\" % (i.status.pod_ip, i.metadata.namespace, i.metadata.name))"
   ]
  },
  {
   "cell_type": "code",
   "execution_count": null,
   "metadata": {},
   "outputs": [],
   "source": []
  }
 ],
 "metadata": {
  "kernelspec": {
   "display_name": "Python 3",
   "language": "python",
   "name": "python3"
  },
  "language_info": {
   "codemirror_mode": {
    "name": "ipython",
    "version": 3
   },
   "file_extension": ".py",
   "mimetype": "text/x-python",
   "name": "python",
   "nbconvert_exporter": "python",
   "pygments_lexer": "ipython3",
   "version": "3.6.5"
  }
 },
 "nbformat": 4,
 "nbformat_minor": 2
}
