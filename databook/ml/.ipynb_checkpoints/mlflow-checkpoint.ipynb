{
 "cells": [
  {
   "cell_type": "markdown",
   "metadata": {},
   "source": [
    "# MLFlow 机器学习工作流程-notebook\n",
    "\n",
    "- MLFlow使用教程，https://my.oschina.net/u/2306127/blog/1825690\n",
    "- MLFlow官方文档，https://www.mlflow.org/docs/latest/quickstart.html\n",
    "- 快速安装: ** pip install mlflow **"
   ]
  },
  {
   "cell_type": "code",
   "execution_count": 43,
   "metadata": {},
   "outputs": [],
   "source": [
    "#下载代码\n",
    "#!git clone https://github.com/databricks/mlflow"
   ]
  },
  {
   "cell_type": "code",
   "execution_count": 42,
   "metadata": {},
   "outputs": [],
   "source": [
    "#%%!\n",
    "#export https_proxy=http://192.168.199.99:9999\n",
    "#echo $https_proxy\n",
    "#pip install mlflow"
   ]
  },
  {
   "cell_type": "code",
   "execution_count": 41,
   "metadata": {},
   "outputs": [],
   "source": [
    "#!pip install mlflow"
   ]
  },
  {
   "cell_type": "code",
   "execution_count": 40,
   "metadata": {},
   "outputs": [],
   "source": [
    "#!ls -l mlflow"
   ]
  },
  {
   "cell_type": "code",
   "execution_count": 3,
   "metadata": {},
   "outputs": [],
   "source": [
    "# The data set used in this example is from http://archive.ics.uci.edu/ml/datasets/Wine+Quality\n",
    "# P. Cortez, A. Cerdeira, F. Almeida, T. Matos and J. Reis.\n",
    "# Modeling wine preferences by data mining from physicochemical properties. In Decision Support Systems, Elsevier, 47(4):547-553, 2009.\n",
    "\n",
    "import os\n",
    "import warnings\n",
    "import sys\n",
    "\n",
    "import pandas as pd\n",
    "import numpy as np\n",
    "from sklearn.metrics import mean_squared_error, mean_absolute_error, r2_score\n",
    "from sklearn.model_selection import train_test_split\n",
    "from sklearn.linear_model import ElasticNet\n",
    "\n",
    "import mlflow\n",
    "import mlflow.sklearn\n",
    "\n",
    "\n",
    "def eval_metrics(actual, pred):\n",
    "    rmse = np.sqrt(mean_squared_error(actual, pred))\n",
    "    mae = mean_absolute_error(actual, pred)\n",
    "    r2 = r2_score(actual, pred)\n",
    "    return rmse, mae, r2"
   ]
  },
  {
   "cell_type": "markdown",
   "metadata": {},
   "source": [
    "### 准备数据"
   ]
  },
  {
   "cell_type": "code",
   "execution_count": 10,
   "metadata": {},
   "outputs": [],
   "source": [
    "warnings.filterwarnings(\"ignore\")\n",
    "np.random.seed(40)\n",
    "\n",
    "# Read the wine-quality csv file (make sure you're running this from the root of MLflow!)\n",
    "#wine_path = os.path.join(os.path.dirname(os.path.abspath(__file__)), \"./mlflow/example/wine-quality.csv\")\n",
    "wine_path = \"../mlflow/example/tutorial/wine-quality.csv\"\n",
    "data = pd.read_csv(wine_path)\n",
    "\n",
    "# Split the data into training and test sets. (0.75, 0.25) split.\n",
    "train, test = train_test_split(data)\n",
    "\n",
    "# The predicted column is \"quality\" which is a scalar from [3, 9]\n",
    "train_x = train.drop([\"quality\"], axis=1)\n",
    "train_y = train[[\"quality\"]]\n",
    "\n",
    "test_x = test.drop([\"quality\"], axis=1)\n",
    "test_y = test[[\"quality\"]]"
   ]
  },
  {
   "cell_type": "code",
   "execution_count": 44,
   "metadata": {},
   "outputs": [
    {
     "name": "stdout",
     "output_type": "stream",
     "text": [
      "Traing dataset:\n",
      "\n"
     ]
    },
    {
     "data": {
      "text/html": [
       "<div>\n",
       "<style scoped>\n",
       "    .dataframe tbody tr th:only-of-type {\n",
       "        vertical-align: middle;\n",
       "    }\n",
       "\n",
       "    .dataframe tbody tr th {\n",
       "        vertical-align: top;\n",
       "    }\n",
       "\n",
       "    .dataframe thead th {\n",
       "        text-align: right;\n",
       "    }\n",
       "</style>\n",
       "<table border=\"1\" class=\"dataframe\">\n",
       "  <thead>\n",
       "    <tr style=\"text-align: right;\">\n",
       "      <th></th>\n",
       "      <th>fixed acidity</th>\n",
       "      <th>volatile acidity</th>\n",
       "      <th>citric acid</th>\n",
       "      <th>residual sugar</th>\n",
       "      <th>chlorides</th>\n",
       "      <th>free sulfur dioxide</th>\n",
       "      <th>total sulfur dioxide</th>\n",
       "      <th>density</th>\n",
       "      <th>pH</th>\n",
       "      <th>sulphates</th>\n",
       "      <th>alcohol</th>\n",
       "      <th>quality</th>\n",
       "    </tr>\n",
       "  </thead>\n",
       "  <tbody>\n",
       "    <tr>\n",
       "      <th>2213</th>\n",
       "      <td>7.4</td>\n",
       "      <td>0.17</td>\n",
       "      <td>0.29</td>\n",
       "      <td>1.4</td>\n",
       "      <td>0.047</td>\n",
       "      <td>23.0</td>\n",
       "      <td>107.0</td>\n",
       "      <td>0.99390</td>\n",
       "      <td>3.52</td>\n",
       "      <td>0.65</td>\n",
       "      <td>10.4</td>\n",
       "      <td>6</td>\n",
       "    </tr>\n",
       "    <tr>\n",
       "      <th>3375</th>\n",
       "      <td>7.8</td>\n",
       "      <td>0.22</td>\n",
       "      <td>0.26</td>\n",
       "      <td>9.0</td>\n",
       "      <td>0.047</td>\n",
       "      <td>38.0</td>\n",
       "      <td>132.0</td>\n",
       "      <td>0.99700</td>\n",
       "      <td>3.25</td>\n",
       "      <td>0.53</td>\n",
       "      <td>10.2</td>\n",
       "      <td>6</td>\n",
       "    </tr>\n",
       "    <tr>\n",
       "      <th>4596</th>\n",
       "      <td>6.7</td>\n",
       "      <td>0.53</td>\n",
       "      <td>0.29</td>\n",
       "      <td>4.3</td>\n",
       "      <td>0.069</td>\n",
       "      <td>20.0</td>\n",
       "      <td>114.0</td>\n",
       "      <td>0.99014</td>\n",
       "      <td>3.22</td>\n",
       "      <td>0.59</td>\n",
       "      <td>13.4</td>\n",
       "      <td>6</td>\n",
       "    </tr>\n",
       "    <tr>\n",
       "      <th>4360</th>\n",
       "      <td>7.3</td>\n",
       "      <td>0.28</td>\n",
       "      <td>0.35</td>\n",
       "      <td>1.6</td>\n",
       "      <td>0.054</td>\n",
       "      <td>31.0</td>\n",
       "      <td>148.0</td>\n",
       "      <td>0.99178</td>\n",
       "      <td>3.18</td>\n",
       "      <td>0.47</td>\n",
       "      <td>10.7</td>\n",
       "      <td>5</td>\n",
       "    </tr>\n",
       "    <tr>\n",
       "      <th>269</th>\n",
       "      <td>5.4</td>\n",
       "      <td>0.59</td>\n",
       "      <td>0.07</td>\n",
       "      <td>7.0</td>\n",
       "      <td>0.045</td>\n",
       "      <td>36.0</td>\n",
       "      <td>147.0</td>\n",
       "      <td>0.99440</td>\n",
       "      <td>3.34</td>\n",
       "      <td>0.57</td>\n",
       "      <td>9.7</td>\n",
       "      <td>6</td>\n",
       "    </tr>\n",
       "    <tr>\n",
       "      <th>1900</th>\n",
       "      <td>10.0</td>\n",
       "      <td>0.23</td>\n",
       "      <td>0.27</td>\n",
       "      <td>14.1</td>\n",
       "      <td>0.033</td>\n",
       "      <td>45.0</td>\n",
       "      <td>166.0</td>\n",
       "      <td>0.99880</td>\n",
       "      <td>2.72</td>\n",
       "      <td>0.43</td>\n",
       "      <td>9.7</td>\n",
       "      <td>6</td>\n",
       "    </tr>\n",
       "    <tr>\n",
       "      <th>4394</th>\n",
       "      <td>6.3</td>\n",
       "      <td>0.20</td>\n",
       "      <td>0.26</td>\n",
       "      <td>12.7</td>\n",
       "      <td>0.046</td>\n",
       "      <td>60.0</td>\n",
       "      <td>143.0</td>\n",
       "      <td>0.99526</td>\n",
       "      <td>3.26</td>\n",
       "      <td>0.35</td>\n",
       "      <td>10.8</td>\n",
       "      <td>6</td>\n",
       "    </tr>\n",
       "    <tr>\n",
       "      <th>4002</th>\n",
       "      <td>6.1</td>\n",
       "      <td>0.25</td>\n",
       "      <td>0.48</td>\n",
       "      <td>15.8</td>\n",
       "      <td>0.052</td>\n",
       "      <td>25.0</td>\n",
       "      <td>94.0</td>\n",
       "      <td>0.99782</td>\n",
       "      <td>3.07</td>\n",
       "      <td>0.45</td>\n",
       "      <td>9.2</td>\n",
       "      <td>6</td>\n",
       "    </tr>\n",
       "    <tr>\n",
       "      <th>3477</th>\n",
       "      <td>7.6</td>\n",
       "      <td>0.31</td>\n",
       "      <td>0.24</td>\n",
       "      <td>1.8</td>\n",
       "      <td>0.037</td>\n",
       "      <td>39.0</td>\n",
       "      <td>150.0</td>\n",
       "      <td>0.99130</td>\n",
       "      <td>3.05</td>\n",
       "      <td>0.44</td>\n",
       "      <td>11.8</td>\n",
       "      <td>7</td>\n",
       "    </tr>\n",
       "    <tr>\n",
       "      <th>971</th>\n",
       "      <td>6.0</td>\n",
       "      <td>0.27</td>\n",
       "      <td>0.19</td>\n",
       "      <td>1.7</td>\n",
       "      <td>0.020</td>\n",
       "      <td>24.0</td>\n",
       "      <td>110.0</td>\n",
       "      <td>0.98980</td>\n",
       "      <td>3.32</td>\n",
       "      <td>0.47</td>\n",
       "      <td>12.6</td>\n",
       "      <td>7</td>\n",
       "    </tr>\n",
       "  </tbody>\n",
       "</table>\n",
       "</div>"
      ],
      "text/plain": [
       "      fixed acidity  volatile acidity  citric acid  residual sugar  chlorides  \\\n",
       "2213            7.4              0.17         0.29             1.4      0.047   \n",
       "3375            7.8              0.22         0.26             9.0      0.047   \n",
       "4596            6.7              0.53         0.29             4.3      0.069   \n",
       "4360            7.3              0.28         0.35             1.6      0.054   \n",
       "269             5.4              0.59         0.07             7.0      0.045   \n",
       "1900           10.0              0.23         0.27            14.1      0.033   \n",
       "4394            6.3              0.20         0.26            12.7      0.046   \n",
       "4002            6.1              0.25         0.48            15.8      0.052   \n",
       "3477            7.6              0.31         0.24             1.8      0.037   \n",
       "971             6.0              0.27         0.19             1.7      0.020   \n",
       "\n",
       "      free sulfur dioxide  total sulfur dioxide  density    pH  sulphates  \\\n",
       "2213                 23.0                 107.0  0.99390  3.52       0.65   \n",
       "3375                 38.0                 132.0  0.99700  3.25       0.53   \n",
       "4596                 20.0                 114.0  0.99014  3.22       0.59   \n",
       "4360                 31.0                 148.0  0.99178  3.18       0.47   \n",
       "269                  36.0                 147.0  0.99440  3.34       0.57   \n",
       "1900                 45.0                 166.0  0.99880  2.72       0.43   \n",
       "4394                 60.0                 143.0  0.99526  3.26       0.35   \n",
       "4002                 25.0                  94.0  0.99782  3.07       0.45   \n",
       "3477                 39.0                 150.0  0.99130  3.05       0.44   \n",
       "971                  24.0                 110.0  0.98980  3.32       0.47   \n",
       "\n",
       "      alcohol  quality  \n",
       "2213     10.4        6  \n",
       "3375     10.2        6  \n",
       "4596     13.4        6  \n",
       "4360     10.7        5  \n",
       "269       9.7        6  \n",
       "1900      9.7        6  \n",
       "4394     10.8        6  \n",
       "4002      9.2        6  \n",
       "3477     11.8        7  \n",
       "971      12.6        7  "
      ]
     },
     "execution_count": 44,
     "metadata": {},
     "output_type": "execute_result"
    }
   ],
   "source": [
    "print(\"Traing dataset:\\n\")\n",
    "train[0:10]"
   ]
  },
  {
   "cell_type": "code",
   "execution_count": 45,
   "metadata": {},
   "outputs": [],
   "source": [
    "#train_x[0:10]"
   ]
  },
  {
   "cell_type": "code",
   "execution_count": 46,
   "metadata": {},
   "outputs": [],
   "source": [
    "#train_y[0:10]"
   ]
  },
  {
   "cell_type": "code",
   "execution_count": 47,
   "metadata": {},
   "outputs": [],
   "source": [
    "#test_x[0:10]"
   ]
  },
  {
   "cell_type": "code",
   "execution_count": 48,
   "metadata": {},
   "outputs": [],
   "source": [
    "#test_y[0:10]"
   ]
  },
  {
   "cell_type": "markdown",
   "metadata": {},
   "source": [
    "### 拟合模型，数据预测，精度评估，记录参数。"
   ]
  },
  {
   "cell_type": "code",
   "execution_count": 52,
   "metadata": {},
   "outputs": [],
   "source": [
    "def learning(alpha = 0.5, l1_ratio = 0.5):\n",
    "    with mlflow.start_run():\n",
    "        lr = ElasticNet(alpha=alpha, l1_ratio=l1_ratio, random_state=42)\n",
    "        lr.fit(train_x, train_y)\n",
    "\n",
    "        predicted_qualities = lr.predict(test_x)\n",
    "\n",
    "        (rmse, mae, r2) = eval_metrics(test_y, predicted_qualities)\n",
    "\n",
    "        #print(\"Elasticnet model (alpha=%f, l1_ratio=%f):\" % (alpha, l1_ratio))\n",
    "        #print(\"  RMSE: %s\" % rmse)\n",
    "        #print(\"  MAE: %s\" % mae)\n",
    "        #print(\"  R2: %s\" % r2)\n",
    "        print(\"Elasticnet model (alpha=%f, l1_ratio=%f): \\tRMSE: %s, \\tMAE: %s, \\tR2: %s\" % (alpha, l1_ratio,rmse,mae,r2))\n",
    "\n",
    "        mlflow.log_param(\"alpha\", alpha)\n",
    "        mlflow.log_param(\"l1_ratio\", l1_ratio)\n",
    "        \n",
    "        mlflow.log_metric(\"rmse\", rmse)\n",
    "        mlflow.log_metric(\"r2\", r2)\n",
    "        mlflow.log_metric(\"mae\", mae)\n",
    "\n",
    "        mlflow.sklearn.log_model(lr, \"model\")"
   ]
  },
  {
   "cell_type": "markdown",
   "metadata": {},
   "source": [
    "### 根据参数计算误差。"
   ]
  },
  {
   "cell_type": "code",
   "execution_count": 55,
   "metadata": {},
   "outputs": [
    {
     "name": "stdout",
     "output_type": "stream",
     "text": [
      "Elasticnet model (alpha=0.500000, l1_ratio=0.500000): \tRMSE: 0.82224284976, \tMAE: 0.627876141016, \tR2: 0.126787219728\n",
      "Elasticnet model (alpha=0.800000, l1_ratio=0.800000): \tRMSE: 0.859868563763, \tMAE: 0.647899138083, \tR2: 0.0450425619538\n"
     ]
    }
   ],
   "source": [
    "learning()\n",
    "learning(0.8,0.8)"
   ]
  },
  {
   "cell_type": "markdown",
   "metadata": {},
   "source": [
    "### 多参数批量计算。"
   ]
  },
  {
   "cell_type": "code",
   "execution_count": 56,
   "metadata": {},
   "outputs": [
    {
     "name": "stdout",
     "output_type": "stream",
     "text": [
      "Elasticnet model (alpha=0.000000, l1_ratio=0.000000): \tRMSE: 0.742416293856, \tMAE: 0.577516890713, \tR2: 0.288106771584\n",
      "Elasticnet model (alpha=0.000000, l1_ratio=0.100000): \tRMSE: 0.742416293856, \tMAE: 0.577516890713, \tR2: 0.288106771584\n",
      "Elasticnet model (alpha=0.000000, l1_ratio=0.200000): \tRMSE: 0.742416293856, \tMAE: 0.577516890713, \tR2: 0.288106771584\n",
      "Elasticnet model (alpha=0.000000, l1_ratio=0.300000): \tRMSE: 0.742416293856, \tMAE: 0.577516890713, \tR2: 0.288106771584\n",
      "Elasticnet model (alpha=0.000000, l1_ratio=0.400000): \tRMSE: 0.742416293856, \tMAE: 0.577516890713, \tR2: 0.288106771584\n",
      "Elasticnet model (alpha=0.100000, l1_ratio=0.000000): \tRMSE: 0.775783244087, \tMAE: 0.60754896565, \tR2: 0.222678531173\n",
      "Elasticnet model (alpha=0.100000, l1_ratio=0.100000): \tRMSE: 0.779254652225, \tMAE: 0.611254798812, \tR2: 0.215706384307\n",
      "Elasticnet model (alpha=0.100000, l1_ratio=0.200000): \tRMSE: 0.781877044345, \tMAE: 0.613321681121, \tR2: 0.210418803165\n",
      "Elasticnet model (alpha=0.100000, l1_ratio=0.300000): \tRMSE: 0.782695805624, \tMAE: 0.613885048232, \tR2: 0.208764279596\n",
      "Elasticnet model (alpha=0.100000, l1_ratio=0.400000): \tRMSE: 0.783754647528, \tMAE: 0.614627757447, \tR2: 0.206622041909\n",
      "Elasticnet model (alpha=0.200000, l1_ratio=0.000000): \tRMSE: 0.779520598952, \tMAE: 0.610614801966, \tR2: 0.215170960074\n",
      "Elasticnet model (alpha=0.200000, l1_ratio=0.100000): \tRMSE: 0.783698402191, \tMAE: 0.614202045269, \tR2: 0.206735909712\n",
      "Elasticnet model (alpha=0.200000, l1_ratio=0.200000): \tRMSE: 0.785912999706, \tMAE: 0.615529039409, \tR2: 0.202246318229\n",
      "Elasticnet model (alpha=0.200000, l1_ratio=0.300000): \tRMSE: 0.787848332596, \tMAE: 0.616559998445, \tR2: 0.19831249881\n",
      "Elasticnet model (alpha=0.200000, l1_ratio=0.400000): \tRMSE: 0.790005142831, \tMAE: 0.61768105351, \tR2: 0.193917098051\n",
      "Elasticnet model (alpha=0.300000, l1_ratio=0.000000): \tRMSE: 0.782264334365, \tMAE: 0.612377858715, \tR2: 0.209636397144\n",
      "Elasticnet model (alpha=0.300000, l1_ratio=0.100000): \tRMSE: 0.787047763084, \tMAE: 0.615798595502, \tR2: 0.199940935299\n",
      "Elasticnet model (alpha=0.300000, l1_ratio=0.200000): \tRMSE: 0.790579437095, \tMAE: 0.617609348205, \tR2: 0.192744708087\n",
      "Elasticnet model (alpha=0.300000, l1_ratio=0.300000): \tRMSE: 0.794271918471, \tMAE: 0.619284328849, \tR2: 0.185186362912\n",
      "Elasticnet model (alpha=0.300000, l1_ratio=0.400000): \tRMSE: 0.798262713739, \tMAE: 0.620875195132, \tR2: 0.176977779674\n",
      "Elasticnet model (alpha=0.400000, l1_ratio=0.000000): \tRMSE: 0.78485197624, \tMAE: 0.613701061, \tR2: 0.204398882218\n",
      "Elasticnet model (alpha=0.400000, l1_ratio=0.100000): \tRMSE: 0.790906912437, \tMAE: 0.617428849224, \tR2: 0.192075803886\n",
      "Elasticnet model (alpha=0.400000, l1_ratio=0.200000): \tRMSE: 0.795854840602, \tMAE: 0.619684897077, \tR2: 0.181935406329\n",
      "Elasticnet model (alpha=0.400000, l1_ratio=0.300000): \tRMSE: 0.800678981456, \tMAE: 0.621375629016, \tR2: 0.171987814078\n",
      "Elasticnet model (alpha=0.400000, l1_ratio=0.400000): \tRMSE: 0.805299973089, \tMAE: 0.622592038556, \tR2: 0.162402752567\n"
     ]
    }
   ],
   "source": [
    "# 参数的总计算步数，据此自动生成参数。\n",
    "steps_alpha = 10\n",
    "steps_l1_ratio = 10\n",
    "\n",
    "# 开始计算。\n",
    "for i in range(steps_alpha):\n",
    "    for j in range(steps_l1_ratio):\n",
    "        learning(i/10,j/10)"
   ]
  },
  {
   "cell_type": "code",
   "execution_count": null,
   "metadata": {},
   "outputs": [],
   "source": []
  }
 ],
 "metadata": {
  "kernelspec": {
   "display_name": "Python 3",
   "language": "python",
   "name": "python3"
  },
  "language_info": {
   "codemirror_mode": {
    "name": "ipython",
    "version": 3
   },
   "file_extension": ".py",
   "mimetype": "text/x-python",
   "name": "python",
   "nbconvert_exporter": "python",
   "pygments_lexer": "ipython3",
   "version": "3.6.5"
  }
 },
 "nbformat": 4,
 "nbformat_minor": 2
}
