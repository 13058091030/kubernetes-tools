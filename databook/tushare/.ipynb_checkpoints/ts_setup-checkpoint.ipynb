{
 "cells": [
  {
   "cell_type": "code",
   "execution_count": 1,
   "metadata": {},
   "outputs": [
    {
     "data": {
      "text/plain": [
       "<Figure size 640x480 with 1 Axes>"
      ]
     },
     "metadata": {},
     "output_type": "display_data"
    }
   ],
   "source": [
    "import tushare as ts\n",
    "\n",
    "a = ts.get_k_data('600718',start='2000-10-01')\n",
    "list1=[]\n",
    "\n",
    "for i in range(a.index[0],len(a.index)):\n",
    "    list1.append(a['open'][i])\n",
    "\n",
    "import matplotlib.pyplot as plt\n",
    "from matplotlib.ticker import FuncFormatter, MaxNLocator\n",
    "\n",
    "fig = plt.figure()\n",
    "ax = fig.add_subplot(111)\n",
    "xs = len(a.index)\n",
    "ys_open = list1\n",
    "\n",
    "ax.xaxis.set_major_locator(MaxNLocator(integer=True))\n",
    "ax.plot( ys_open)\n",
    "\n",
    "plt.title(\"600718\")\n",
    "plt.show()"
   ]
  },
  {
   "cell_type": "code",
   "execution_count": 6,
   "metadata": {},
   "outputs": [],
   "source": [
    "%matplotlib inline"
   ]
  },
  {
   "cell_type": "code",
   "execution_count": 4,
   "metadata": {},
   "outputs": [
    {
     "name": "stdout",
     "output_type": "stream",
     "text": [
      "Collecting PyQt5\n",
      "\u001b[?25l  Downloading https://files.pythonhosted.org/packages/3a/c7/4a9bec78c864051051b41b4cc76672ecc232e6dc7dbb91a5f8ff6f20ff64/PyQt5-5.11.2-5.11.1-cp35.cp36.cp37.cp38-abi3-manylinux1_x86_64.whl (117.9MB)\n",
      "\u001b[K    1% |▍                               | 1.5MB 3.6kB/s eta 8:53:52\u001b[31mException:\n",
      "Traceback (most recent call last):\n",
      "  File \"/opt/conda/lib/python3.6/site-packages/pip/_vendor/urllib3/contrib/pyopenssl.py\", line 280, in recv_into\n",
      "    return self.connection.recv_into(*args, **kwargs)\n",
      "  File \"/opt/conda/lib/python3.6/site-packages/OpenSSL/SSL.py\", line 1814, in recv_into\n",
      "    self._raise_ssl_error(self._ssl, result)\n",
      "  File \"/opt/conda/lib/python3.6/site-packages/OpenSSL/SSL.py\", line 1614, in _raise_ssl_error\n",
      "    raise WantReadError()\n",
      "OpenSSL.SSL.WantReadError\n",
      "\n",
      "During handling of the above exception, another exception occurred:\n",
      "\n",
      "Traceback (most recent call last):\n",
      "  File \"/opt/conda/lib/python3.6/site-packages/pip/_vendor/urllib3/response.py\", line 302, in _error_catcher\n",
      "    yield\n",
      "  File \"/opt/conda/lib/python3.6/site-packages/pip/_vendor/urllib3/response.py\", line 384, in read\n",
      "    data = self._fp.read(amt)\n",
      "  File \"/opt/conda/lib/python3.6/site-packages/pip/_vendor/cachecontrol/filewrapper.py\", line 60, in read\n",
      "    data = self.__fp.read(amt)\n",
      "  File \"/opt/conda/lib/python3.6/http/client.py\", line 449, in read\n",
      "    n = self.readinto(b)\n",
      "  File \"/opt/conda/lib/python3.6/http/client.py\", line 493, in readinto\n",
      "    n = self.fp.readinto(b)\n",
      "  File \"/opt/conda/lib/python3.6/socket.py\", line 586, in readinto\n",
      "    return self._sock.recv_into(b)\n",
      "  File \"/opt/conda/lib/python3.6/site-packages/pip/_vendor/urllib3/contrib/pyopenssl.py\", line 294, in recv_into\n",
      "    raise timeout('The read operation timed out')\n",
      "socket.timeout: The read operation timed out\n",
      "\n",
      "During handling of the above exception, another exception occurred:\n",
      "\n",
      "Traceback (most recent call last):\n",
      "  File \"/opt/conda/lib/python3.6/site-packages/pip/_internal/basecommand.py\", line 228, in main\n",
      "    status = self.run(options, args)\n",
      "  File \"/opt/conda/lib/python3.6/site-packages/pip/_internal/commands/install.py\", line 291, in run\n",
      "    resolver.resolve(requirement_set)\n",
      "  File \"/opt/conda/lib/python3.6/site-packages/pip/_internal/resolve.py\", line 103, in resolve\n",
      "    self._resolve_one(requirement_set, req)\n",
      "  File \"/opt/conda/lib/python3.6/site-packages/pip/_internal/resolve.py\", line 257, in _resolve_one\n",
      "    abstract_dist = self._get_abstract_dist_for(req_to_install)\n",
      "  File \"/opt/conda/lib/python3.6/site-packages/pip/_internal/resolve.py\", line 210, in _get_abstract_dist_for\n",
      "    self.require_hashes\n",
      "  File \"/opt/conda/lib/python3.6/site-packages/pip/_internal/operations/prepare.py\", line 310, in prepare_linked_requirement\n",
      "    progress_bar=self.progress_bar\n",
      "  File \"/opt/conda/lib/python3.6/site-packages/pip/_internal/download.py\", line 837, in unpack_url\n",
      "    progress_bar=progress_bar\n",
      "  File \"/opt/conda/lib/python3.6/site-packages/pip/_internal/download.py\", line 674, in unpack_http_url\n",
      "    progress_bar)\n",
      "  File \"/opt/conda/lib/python3.6/site-packages/pip/_internal/download.py\", line 898, in _download_http_url\n",
      "    _download_url(resp, link, content_file, hashes, progress_bar)\n",
      "  File \"/opt/conda/lib/python3.6/site-packages/pip/_internal/download.py\", line 618, in _download_url\n",
      "    hashes.check_against_chunks(downloaded_chunks)\n",
      "  File \"/opt/conda/lib/python3.6/site-packages/pip/_internal/utils/hashes.py\", line 48, in check_against_chunks\n",
      "    for chunk in chunks:\n",
      "  File \"/opt/conda/lib/python3.6/site-packages/pip/_internal/download.py\", line 586, in written_chunks\n",
      "    for chunk in chunks:\n",
      "  File \"/opt/conda/lib/python3.6/site-packages/pip/_internal/utils/ui.py\", line 159, in iter\n",
      "    for x in it:\n",
      "  File \"/opt/conda/lib/python3.6/site-packages/pip/_internal/download.py\", line 575, in resp_read\n",
      "    decode_content=False):\n",
      "  File \"/opt/conda/lib/python3.6/site-packages/pip/_vendor/urllib3/response.py\", line 436, in stream\n",
      "    data = self.read(amt=amt, decode_content=decode_content)\n",
      "  File \"/opt/conda/lib/python3.6/site-packages/pip/_vendor/urllib3/response.py\", line 401, in read\n",
      "    raise IncompleteRead(self._fp_bytes_read, self.length_remaining)\n",
      "  File \"/opt/conda/lib/python3.6/contextlib.py\", line 99, in __exit__\n",
      "    self.gen.throw(type, value, traceback)\n",
      "  File \"/opt/conda/lib/python3.6/site-packages/pip/_vendor/urllib3/response.py\", line 307, in _error_catcher\n",
      "    raise ReadTimeoutError(self._pool, None, 'Read timed out.')\n",
      "pip._vendor.urllib3.exceptions.ReadTimeoutError: HTTPSConnectionPool(host='files.pythonhosted.org', port=443): Read timed out.\u001b[0m\n"
     ]
    }
   ],
   "source": [
    "!pip install PyQt5"
   ]
  },
  {
   "cell_type": "code",
   "execution_count": null,
   "metadata": {},
   "outputs": [],
   "source": []
  }
 ],
 "metadata": {
  "kernelspec": {
   "display_name": "Python 3",
   "language": "python",
   "name": "python3"
  },
  "language_info": {
   "codemirror_mode": {
    "name": "ipython",
    "version": 3
   },
   "file_extension": ".py",
   "mimetype": "text/x-python",
   "name": "python",
   "nbconvert_exporter": "python",
   "pygments_lexer": "ipython3",
   "version": "3.6.5"
  }
 },
 "nbformat": 4,
 "nbformat_minor": 2
}
